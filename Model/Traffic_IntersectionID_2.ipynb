{
  "nbformat": 4,
  "nbformat_minor": 0,
  "metadata": {
    "colab": {
      "name": "Traffic-IntersectionID-2.ipynb",
      "provenance": [],
      "collapsed_sections": [],
      "authorship_tag": "ABX9TyOllO9ZyceQTj8FuiPsi7tD",
      "include_colab_link": true
    },
    "kernelspec": {
      "name": "python3",
      "display_name": "Python 3"
    },
    "language_info": {
      "name": "python"
    }
  },
  "cells": [
    {
      "cell_type": "markdown",
      "metadata": {
        "id": "view-in-github",
        "colab_type": "text"
      },
      "source": [
        "<a href=\"https://colab.research.google.com/github/abdularif0705/cyber-traffic-data/blob/main/Model/Traffic_IntersectionID_2.ipynb\" target=\"_parent\"><img src=\"https://colab.research.google.com/assets/colab-badge.svg\" alt=\"Open In Colab\"/></a>"
      ]
    },
    {
      "cell_type": "code",
      "metadata": {
        "id": "4Puwhhwpl1V0"
      },
      "source": [
        "#importing python standard packages\n",
        "from datetime import date, timedelta as td\n",
        "import pandas as pd\n",
        "import requests\n",
        "import warnings\n",
        "import matplotlib.pyplot as plt\n",
        "import seaborn as sns"
      ],
      "execution_count": 1,
      "outputs": []
    },
    {
      "cell_type": "code",
      "metadata": {
        "id": "az4zlxOrNvE9"
      },
      "source": [
        "warnings.filterwarnings(\"ignore\")"
      ],
      "execution_count": 2,
      "outputs": []
    },
    {
      "cell_type": "code",
      "metadata": {
        "colab": {
          "base_uri": "https://localhost:8080/",
          "height": 434
        },
        "id": "P55rJ2mBp_6J",
        "outputId": "0c3b8e56-5def-4251-8128-ce32d09c9f39"
      },
      "source": [
        "#start date and end date\n",
        "start_date = date(2020, 1, 1)\n",
        "end_date = date(2020, 12, 31)\n",
        "\n",
        "date_diff = end_date - start_date\n",
        "print(date_diff)\n",
        "for i in range(date_diff.days + 1):\n",
        "    dates = start_date + td(days=i)\n",
        "    url = \"https://opendata.citywindsor.ca/api/traffic?date=\"+str(dates)+\"&intersectionId=2&start_time=00%3A00&end_time=23%3A59\"\n",
        "    #print(url)\n",
        "    if i == 0:\n",
        "      df = requests.get(url = url,verify=False)\n",
        "data_2020 = pd.DataFrame.from_dict(df.json(), orient='columns')\n",
        "data_2020"
      ],
      "execution_count": 3,
      "outputs": [
        {
          "output_type": "stream",
          "name": "stdout",
          "text": [
            "365 days, 0:00:00\n"
          ]
        },
        {
          "output_type": "execute_result",
          "data": {
            "text/html": [
              "<div>\n",
              "<style scoped>\n",
              "    .dataframe tbody tr th:only-of-type {\n",
              "        vertical-align: middle;\n",
              "    }\n",
              "\n",
              "    .dataframe tbody tr th {\n",
              "        vertical-align: top;\n",
              "    }\n",
              "\n",
              "    .dataframe thead th {\n",
              "        text-align: right;\n",
              "    }\n",
              "</style>\n",
              "<table border=\"1\" class=\"dataframe\">\n",
              "  <thead>\n",
              "    <tr style=\"text-align: right;\">\n",
              "      <th></th>\n",
              "      <th>intersectionId</th>\n",
              "      <th>intersectionDescription</th>\n",
              "      <th>traffic</th>\n",
              "    </tr>\n",
              "  </thead>\n",
              "  <tbody>\n",
              "    <tr>\n",
              "      <th>0</th>\n",
              "      <td>2</td>\n",
              "      <td>Totten Street and Huron Church Road</td>\n",
              "      <td>{'timeStamp': '2020-01-01T00:00:00', 'vehicleT...</td>\n",
              "    </tr>\n",
              "    <tr>\n",
              "      <th>1</th>\n",
              "      <td>2</td>\n",
              "      <td>Totten Street and Huron Church Road</td>\n",
              "      <td>{'timeStamp': '2020-01-01T00:00:00', 'vehicleT...</td>\n",
              "    </tr>\n",
              "    <tr>\n",
              "      <th>2</th>\n",
              "      <td>2</td>\n",
              "      <td>Totten Street and Huron Church Road</td>\n",
              "      <td>{'timeStamp': '2020-01-01T00:00:00', 'vehicleT...</td>\n",
              "    </tr>\n",
              "    <tr>\n",
              "      <th>3</th>\n",
              "      <td>2</td>\n",
              "      <td>Totten Street and Huron Church Road</td>\n",
              "      <td>{'timeStamp': '2020-01-01T00:01:00', 'vehicleT...</td>\n",
              "    </tr>\n",
              "    <tr>\n",
              "      <th>4</th>\n",
              "      <td>2</td>\n",
              "      <td>Totten Street and Huron Church Road</td>\n",
              "      <td>{'timeStamp': '2020-01-01T00:01:00', 'vehicleT...</td>\n",
              "    </tr>\n",
              "    <tr>\n",
              "      <th>...</th>\n",
              "      <td>...</td>\n",
              "      <td>...</td>\n",
              "      <td>...</td>\n",
              "    </tr>\n",
              "    <tr>\n",
              "      <th>7527</th>\n",
              "      <td>2</td>\n",
              "      <td>Totten Street and Huron Church Road</td>\n",
              "      <td>{'timeStamp': '2020-01-01T23:58:00', 'vehicleT...</td>\n",
              "    </tr>\n",
              "    <tr>\n",
              "      <th>7528</th>\n",
              "      <td>2</td>\n",
              "      <td>Totten Street and Huron Church Road</td>\n",
              "      <td>{'timeStamp': '2020-01-01T23:58:00', 'vehicleT...</td>\n",
              "    </tr>\n",
              "    <tr>\n",
              "      <th>7529</th>\n",
              "      <td>2</td>\n",
              "      <td>Totten Street and Huron Church Road</td>\n",
              "      <td>{'timeStamp': '2020-01-01T23:59:00', 'vehicleT...</td>\n",
              "    </tr>\n",
              "    <tr>\n",
              "      <th>7530</th>\n",
              "      <td>2</td>\n",
              "      <td>Totten Street and Huron Church Road</td>\n",
              "      <td>{'timeStamp': '2020-01-01T23:59:00', 'vehicleT...</td>\n",
              "    </tr>\n",
              "    <tr>\n",
              "      <th>7531</th>\n",
              "      <td>2</td>\n",
              "      <td>Totten Street and Huron Church Road</td>\n",
              "      <td>{'timeStamp': '2020-01-01T23:59:00', 'vehicleT...</td>\n",
              "    </tr>\n",
              "  </tbody>\n",
              "</table>\n",
              "<p>7532 rows × 3 columns</p>\n",
              "</div>"
            ],
            "text/plain": [
              "      intersectionId  ...                                            traffic\n",
              "0                  2  ...  {'timeStamp': '2020-01-01T00:00:00', 'vehicleT...\n",
              "1                  2  ...  {'timeStamp': '2020-01-01T00:00:00', 'vehicleT...\n",
              "2                  2  ...  {'timeStamp': '2020-01-01T00:00:00', 'vehicleT...\n",
              "3                  2  ...  {'timeStamp': '2020-01-01T00:01:00', 'vehicleT...\n",
              "4                  2  ...  {'timeStamp': '2020-01-01T00:01:00', 'vehicleT...\n",
              "...              ...  ...                                                ...\n",
              "7527               2  ...  {'timeStamp': '2020-01-01T23:58:00', 'vehicleT...\n",
              "7528               2  ...  {'timeStamp': '2020-01-01T23:58:00', 'vehicleT...\n",
              "7529               2  ...  {'timeStamp': '2020-01-01T23:59:00', 'vehicleT...\n",
              "7530               2  ...  {'timeStamp': '2020-01-01T23:59:00', 'vehicleT...\n",
              "7531               2  ...  {'timeStamp': '2020-01-01T23:59:00', 'vehicleT...\n",
              "\n",
              "[7532 rows x 3 columns]"
            ]
          },
          "metadata": {},
          "execution_count": 3
        }
      ]
    },
    {
      "cell_type": "code",
      "metadata": {
        "colab": {
          "base_uri": "https://localhost:8080/",
          "height": 203
        },
        "id": "6Yj0XQIatid3",
        "outputId": "c4ee05e3-117f-43b3-f368-587dc99ed1ad"
      },
      "source": [
        "df1 = pd.DataFrame(data_2020['traffic'].values.tolist())\n",
        "df1.head()"
      ],
      "execution_count": 4,
      "outputs": [
        {
          "output_type": "execute_result",
          "data": {
            "text/html": [
              "<div>\n",
              "<style scoped>\n",
              "    .dataframe tbody tr th:only-of-type {\n",
              "        vertical-align: middle;\n",
              "    }\n",
              "\n",
              "    .dataframe tbody tr th {\n",
              "        vertical-align: top;\n",
              "    }\n",
              "\n",
              "    .dataframe thead th {\n",
              "        text-align: right;\n",
              "    }\n",
              "</style>\n",
              "<table border=\"1\" class=\"dataframe\">\n",
              "  <thead>\n",
              "    <tr style=\"text-align: right;\">\n",
              "      <th></th>\n",
              "      <th>timeStamp</th>\n",
              "      <th>vehicleType</th>\n",
              "      <th>entrance</th>\n",
              "      <th>exit</th>\n",
              "      <th>qty</th>\n",
              "      <th>isDaylightSavingsTime</th>\n",
              "    </tr>\n",
              "  </thead>\n",
              "  <tbody>\n",
              "    <tr>\n",
              "      <th>0</th>\n",
              "      <td>2020-01-01T00:00:00</td>\n",
              "      <td>Light</td>\n",
              "      <td>E</td>\n",
              "      <td>W</td>\n",
              "      <td>1</td>\n",
              "      <td>False</td>\n",
              "    </tr>\n",
              "    <tr>\n",
              "      <th>1</th>\n",
              "      <td>2020-01-01T00:00:00</td>\n",
              "      <td>Light</td>\n",
              "      <td>N</td>\n",
              "      <td>S</td>\n",
              "      <td>1</td>\n",
              "      <td>False</td>\n",
              "    </tr>\n",
              "    <tr>\n",
              "      <th>2</th>\n",
              "      <td>2020-01-01T00:00:00</td>\n",
              "      <td>Light</td>\n",
              "      <td>W</td>\n",
              "      <td>E</td>\n",
              "      <td>2</td>\n",
              "      <td>False</td>\n",
              "    </tr>\n",
              "    <tr>\n",
              "      <th>3</th>\n",
              "      <td>2020-01-01T00:01:00</td>\n",
              "      <td>Light</td>\n",
              "      <td>N</td>\n",
              "      <td>S</td>\n",
              "      <td>1</td>\n",
              "      <td>False</td>\n",
              "    </tr>\n",
              "    <tr>\n",
              "      <th>4</th>\n",
              "      <td>2020-01-01T00:01:00</td>\n",
              "      <td>Light</td>\n",
              "      <td>S</td>\n",
              "      <td>E</td>\n",
              "      <td>1</td>\n",
              "      <td>False</td>\n",
              "    </tr>\n",
              "  </tbody>\n",
              "</table>\n",
              "</div>"
            ],
            "text/plain": [
              "             timeStamp vehicleType entrance exit  qty  isDaylightSavingsTime\n",
              "0  2020-01-01T00:00:00       Light        E    W    1                  False\n",
              "1  2020-01-01T00:00:00       Light        N    S    1                  False\n",
              "2  2020-01-01T00:00:00       Light        W    E    2                  False\n",
              "3  2020-01-01T00:01:00       Light        N    S    1                  False\n",
              "4  2020-01-01T00:01:00       Light        S    E    1                  False"
            ]
          },
          "metadata": {},
          "execution_count": 4
        }
      ]
    },
    {
      "cell_type": "code",
      "metadata": {
        "colab": {
          "base_uri": "https://localhost:8080/"
        },
        "id": "FVe1rlPctsoD",
        "outputId": "7b770c29-11a5-45db-e2dd-236234705739"
      },
      "source": [
        "data_2020 = pd.concat([data_2020,df1], axis=1)\n",
        "data_2020.shape"
      ],
      "execution_count": 5,
      "outputs": [
        {
          "output_type": "execute_result",
          "data": {
            "text/plain": [
              "(7532, 9)"
            ]
          },
          "metadata": {},
          "execution_count": 5
        }
      ]
    },
    {
      "cell_type": "code",
      "metadata": {
        "colab": {
          "base_uri": "https://localhost:8080/",
          "height": 434
        },
        "id": "Gb76ASCUqLRR",
        "outputId": "a4089681-68a4-4ab4-fe0e-ada903fc6867"
      },
      "source": [
        "#start date and end date\n",
        "start_date = date(2021, 1, 1)\n",
        "end_date = date(2021, 9, 24)\n",
        "\n",
        "date_diff = end_date - start_date\n",
        "print(date_diff)\n",
        "for i in range(date_diff.days + 1):\n",
        "    dates = start_date + td(days=i)\n",
        "    url = \"https://opendata.citywindsor.ca/api/traffic?date=\"+str(dates)+\"&intersectionId=1&start_time=00%3A00&end_time=23%3A59\"\n",
        "    #print(url)\n",
        "    if i == 0:\n",
        "      df = requests.get(url = url,verify=False)\n",
        "data_2021 = pd.DataFrame.from_dict(df.json(), orient='columns')\n",
        "data_2021"
      ],
      "execution_count": 6,
      "outputs": [
        {
          "output_type": "stream",
          "name": "stdout",
          "text": [
            "266 days, 0:00:00\n"
          ]
        },
        {
          "output_type": "execute_result",
          "data": {
            "text/html": [
              "<div>\n",
              "<style scoped>\n",
              "    .dataframe tbody tr th:only-of-type {\n",
              "        vertical-align: middle;\n",
              "    }\n",
              "\n",
              "    .dataframe tbody tr th {\n",
              "        vertical-align: top;\n",
              "    }\n",
              "\n",
              "    .dataframe thead th {\n",
              "        text-align: right;\n",
              "    }\n",
              "</style>\n",
              "<table border=\"1\" class=\"dataframe\">\n",
              "  <thead>\n",
              "    <tr style=\"text-align: right;\">\n",
              "      <th></th>\n",
              "      <th>intersectionId</th>\n",
              "      <th>intersectionDescription</th>\n",
              "      <th>traffic</th>\n",
              "    </tr>\n",
              "  </thead>\n",
              "  <tbody>\n",
              "    <tr>\n",
              "      <th>0</th>\n",
              "      <td>1</td>\n",
              "      <td>Dorchester Road and Huron Church Road</td>\n",
              "      <td>{'timeStamp': '2021-01-01T00:00:00', 'vehicleT...</td>\n",
              "    </tr>\n",
              "    <tr>\n",
              "      <th>1</th>\n",
              "      <td>1</td>\n",
              "      <td>Dorchester Road and Huron Church Road</td>\n",
              "      <td>{'timeStamp': '2021-01-01T00:00:00', 'vehicleT...</td>\n",
              "    </tr>\n",
              "    <tr>\n",
              "      <th>2</th>\n",
              "      <td>1</td>\n",
              "      <td>Dorchester Road and Huron Church Road</td>\n",
              "      <td>{'timeStamp': '2021-01-01T00:00:00', 'vehicleT...</td>\n",
              "    </tr>\n",
              "    <tr>\n",
              "      <th>3</th>\n",
              "      <td>1</td>\n",
              "      <td>Dorchester Road and Huron Church Road</td>\n",
              "      <td>{'timeStamp': '2021-01-01T00:01:00', 'vehicleT...</td>\n",
              "    </tr>\n",
              "    <tr>\n",
              "      <th>4</th>\n",
              "      <td>1</td>\n",
              "      <td>Dorchester Road and Huron Church Road</td>\n",
              "      <td>{'timeStamp': '2021-01-01T00:01:00', 'vehicleT...</td>\n",
              "    </tr>\n",
              "    <tr>\n",
              "      <th>...</th>\n",
              "      <td>...</td>\n",
              "      <td>...</td>\n",
              "      <td>...</td>\n",
              "    </tr>\n",
              "    <tr>\n",
              "      <th>4476</th>\n",
              "      <td>1</td>\n",
              "      <td>Dorchester Road and Huron Church Road</td>\n",
              "      <td>{'timeStamp': '2021-01-01T23:57:00', 'vehicleT...</td>\n",
              "    </tr>\n",
              "    <tr>\n",
              "      <th>4477</th>\n",
              "      <td>1</td>\n",
              "      <td>Dorchester Road and Huron Church Road</td>\n",
              "      <td>{'timeStamp': '2021-01-01T23:58:00', 'vehicleT...</td>\n",
              "    </tr>\n",
              "    <tr>\n",
              "      <th>4478</th>\n",
              "      <td>1</td>\n",
              "      <td>Dorchester Road and Huron Church Road</td>\n",
              "      <td>{'timeStamp': '2021-01-01T23:58:00', 'vehicleT...</td>\n",
              "    </tr>\n",
              "    <tr>\n",
              "      <th>4479</th>\n",
              "      <td>1</td>\n",
              "      <td>Dorchester Road and Huron Church Road</td>\n",
              "      <td>{'timeStamp': '2021-01-01T23:58:00', 'vehicleT...</td>\n",
              "    </tr>\n",
              "    <tr>\n",
              "      <th>4480</th>\n",
              "      <td>1</td>\n",
              "      <td>Dorchester Road and Huron Church Road</td>\n",
              "      <td>{'timeStamp': '2021-01-01T23:59:00', 'vehicleT...</td>\n",
              "    </tr>\n",
              "  </tbody>\n",
              "</table>\n",
              "<p>4481 rows × 3 columns</p>\n",
              "</div>"
            ],
            "text/plain": [
              "      intersectionId  ...                                            traffic\n",
              "0                  1  ...  {'timeStamp': '2021-01-01T00:00:00', 'vehicleT...\n",
              "1                  1  ...  {'timeStamp': '2021-01-01T00:00:00', 'vehicleT...\n",
              "2                  1  ...  {'timeStamp': '2021-01-01T00:00:00', 'vehicleT...\n",
              "3                  1  ...  {'timeStamp': '2021-01-01T00:01:00', 'vehicleT...\n",
              "4                  1  ...  {'timeStamp': '2021-01-01T00:01:00', 'vehicleT...\n",
              "...              ...  ...                                                ...\n",
              "4476               1  ...  {'timeStamp': '2021-01-01T23:57:00', 'vehicleT...\n",
              "4477               1  ...  {'timeStamp': '2021-01-01T23:58:00', 'vehicleT...\n",
              "4478               1  ...  {'timeStamp': '2021-01-01T23:58:00', 'vehicleT...\n",
              "4479               1  ...  {'timeStamp': '2021-01-01T23:58:00', 'vehicleT...\n",
              "4480               1  ...  {'timeStamp': '2021-01-01T23:59:00', 'vehicleT...\n",
              "\n",
              "[4481 rows x 3 columns]"
            ]
          },
          "metadata": {},
          "execution_count": 6
        }
      ]
    },
    {
      "cell_type": "code",
      "metadata": {
        "colab": {
          "base_uri": "https://localhost:8080/",
          "height": 203
        },
        "id": "8icsdfccuBuE",
        "outputId": "c14b47a4-363b-4cf0-9cfb-dead85187c95"
      },
      "source": [
        "df2 = pd.DataFrame(data_2021['traffic'].values.tolist())\n",
        "df2.head()"
      ],
      "execution_count": 7,
      "outputs": [
        {
          "output_type": "execute_result",
          "data": {
            "text/html": [
              "<div>\n",
              "<style scoped>\n",
              "    .dataframe tbody tr th:only-of-type {\n",
              "        vertical-align: middle;\n",
              "    }\n",
              "\n",
              "    .dataframe tbody tr th {\n",
              "        vertical-align: top;\n",
              "    }\n",
              "\n",
              "    .dataframe thead th {\n",
              "        text-align: right;\n",
              "    }\n",
              "</style>\n",
              "<table border=\"1\" class=\"dataframe\">\n",
              "  <thead>\n",
              "    <tr style=\"text-align: right;\">\n",
              "      <th></th>\n",
              "      <th>timeStamp</th>\n",
              "      <th>vehicleType</th>\n",
              "      <th>entrance</th>\n",
              "      <th>exit</th>\n",
              "      <th>qty</th>\n",
              "      <th>isDaylightSavingsTime</th>\n",
              "    </tr>\n",
              "  </thead>\n",
              "  <tbody>\n",
              "    <tr>\n",
              "      <th>0</th>\n",
              "      <td>2021-01-01T00:00:00</td>\n",
              "      <td>ArticulatedTruck</td>\n",
              "      <td>N</td>\n",
              "      <td>S</td>\n",
              "      <td>1</td>\n",
              "      <td>False</td>\n",
              "    </tr>\n",
              "    <tr>\n",
              "      <th>1</th>\n",
              "      <td>2021-01-01T00:00:00</td>\n",
              "      <td>Light</td>\n",
              "      <td>E</td>\n",
              "      <td>S</td>\n",
              "      <td>1</td>\n",
              "      <td>False</td>\n",
              "    </tr>\n",
              "    <tr>\n",
              "      <th>2</th>\n",
              "      <td>2021-01-01T00:00:00</td>\n",
              "      <td>Light</td>\n",
              "      <td>S</td>\n",
              "      <td>N</td>\n",
              "      <td>4</td>\n",
              "      <td>False</td>\n",
              "    </tr>\n",
              "    <tr>\n",
              "      <th>3</th>\n",
              "      <td>2021-01-01T00:01:00</td>\n",
              "      <td>ArticulatedTruck</td>\n",
              "      <td>S</td>\n",
              "      <td>N</td>\n",
              "      <td>1</td>\n",
              "      <td>False</td>\n",
              "    </tr>\n",
              "    <tr>\n",
              "      <th>4</th>\n",
              "      <td>2021-01-01T00:01:00</td>\n",
              "      <td>Light</td>\n",
              "      <td>S</td>\n",
              "      <td>N</td>\n",
              "      <td>5</td>\n",
              "      <td>False</td>\n",
              "    </tr>\n",
              "  </tbody>\n",
              "</table>\n",
              "</div>"
            ],
            "text/plain": [
              "             timeStamp       vehicleType  ... qty isDaylightSavingsTime\n",
              "0  2021-01-01T00:00:00  ArticulatedTruck  ...   1                 False\n",
              "1  2021-01-01T00:00:00             Light  ...   1                 False\n",
              "2  2021-01-01T00:00:00             Light  ...   4                 False\n",
              "3  2021-01-01T00:01:00  ArticulatedTruck  ...   1                 False\n",
              "4  2021-01-01T00:01:00             Light  ...   5                 False\n",
              "\n",
              "[5 rows x 6 columns]"
            ]
          },
          "metadata": {},
          "execution_count": 7
        }
      ]
    },
    {
      "cell_type": "code",
      "metadata": {
        "colab": {
          "base_uri": "https://localhost:8080/"
        },
        "id": "Ro-VxuTUt_So",
        "outputId": "bd93dbbd-1dbb-4a0d-d032-42dedda80701"
      },
      "source": [
        "data_2021 = pd.concat([data_2021,df2], axis=1)\n",
        "data_2021.shape"
      ],
      "execution_count": 8,
      "outputs": [
        {
          "output_type": "execute_result",
          "data": {
            "text/plain": [
              "(4481, 9)"
            ]
          },
          "metadata": {},
          "execution_count": 8
        }
      ]
    },
    {
      "cell_type": "code",
      "metadata": {
        "colab": {
          "base_uri": "https://localhost:8080/"
        },
        "id": "KaydXh6lqTYi",
        "outputId": "d6f282e1-04c1-4c7b-f469-83e6bd121ca9"
      },
      "source": [
        "data = pd.concat([data_2020,data_2021], axis=0)\n",
        "data.shape"
      ],
      "execution_count": 9,
      "outputs": [
        {
          "output_type": "execute_result",
          "data": {
            "text/plain": [
              "(12013, 9)"
            ]
          },
          "metadata": {},
          "execution_count": 9
        }
      ]
    },
    {
      "cell_type": "code",
      "metadata": {
        "colab": {
          "base_uri": "https://localhost:8080/",
          "height": 417
        },
        "id": "qWeBTCSSqie9",
        "outputId": "47df4650-d0ef-47ea-9031-fb7d7c206bdb"
      },
      "source": [
        "data"
      ],
      "execution_count": 10,
      "outputs": [
        {
          "output_type": "execute_result",
          "data": {
            "text/html": [
              "<div>\n",
              "<style scoped>\n",
              "    .dataframe tbody tr th:only-of-type {\n",
              "        vertical-align: middle;\n",
              "    }\n",
              "\n",
              "    .dataframe tbody tr th {\n",
              "        vertical-align: top;\n",
              "    }\n",
              "\n",
              "    .dataframe thead th {\n",
              "        text-align: right;\n",
              "    }\n",
              "</style>\n",
              "<table border=\"1\" class=\"dataframe\">\n",
              "  <thead>\n",
              "    <tr style=\"text-align: right;\">\n",
              "      <th></th>\n",
              "      <th>intersectionId</th>\n",
              "      <th>intersectionDescription</th>\n",
              "      <th>traffic</th>\n",
              "      <th>timeStamp</th>\n",
              "      <th>vehicleType</th>\n",
              "      <th>entrance</th>\n",
              "      <th>exit</th>\n",
              "      <th>qty</th>\n",
              "      <th>isDaylightSavingsTime</th>\n",
              "    </tr>\n",
              "  </thead>\n",
              "  <tbody>\n",
              "    <tr>\n",
              "      <th>0</th>\n",
              "      <td>2</td>\n",
              "      <td>Totten Street and Huron Church Road</td>\n",
              "      <td>{'timeStamp': '2020-01-01T00:00:00', 'vehicleT...</td>\n",
              "      <td>2020-01-01T00:00:00</td>\n",
              "      <td>Light</td>\n",
              "      <td>E</td>\n",
              "      <td>W</td>\n",
              "      <td>1</td>\n",
              "      <td>False</td>\n",
              "    </tr>\n",
              "    <tr>\n",
              "      <th>1</th>\n",
              "      <td>2</td>\n",
              "      <td>Totten Street and Huron Church Road</td>\n",
              "      <td>{'timeStamp': '2020-01-01T00:00:00', 'vehicleT...</td>\n",
              "      <td>2020-01-01T00:00:00</td>\n",
              "      <td>Light</td>\n",
              "      <td>N</td>\n",
              "      <td>S</td>\n",
              "      <td>1</td>\n",
              "      <td>False</td>\n",
              "    </tr>\n",
              "    <tr>\n",
              "      <th>2</th>\n",
              "      <td>2</td>\n",
              "      <td>Totten Street and Huron Church Road</td>\n",
              "      <td>{'timeStamp': '2020-01-01T00:00:00', 'vehicleT...</td>\n",
              "      <td>2020-01-01T00:00:00</td>\n",
              "      <td>Light</td>\n",
              "      <td>W</td>\n",
              "      <td>E</td>\n",
              "      <td>2</td>\n",
              "      <td>False</td>\n",
              "    </tr>\n",
              "    <tr>\n",
              "      <th>3</th>\n",
              "      <td>2</td>\n",
              "      <td>Totten Street and Huron Church Road</td>\n",
              "      <td>{'timeStamp': '2020-01-01T00:01:00', 'vehicleT...</td>\n",
              "      <td>2020-01-01T00:01:00</td>\n",
              "      <td>Light</td>\n",
              "      <td>N</td>\n",
              "      <td>S</td>\n",
              "      <td>1</td>\n",
              "      <td>False</td>\n",
              "    </tr>\n",
              "    <tr>\n",
              "      <th>4</th>\n",
              "      <td>2</td>\n",
              "      <td>Totten Street and Huron Church Road</td>\n",
              "      <td>{'timeStamp': '2020-01-01T00:01:00', 'vehicleT...</td>\n",
              "      <td>2020-01-01T00:01:00</td>\n",
              "      <td>Light</td>\n",
              "      <td>S</td>\n",
              "      <td>E</td>\n",
              "      <td>1</td>\n",
              "      <td>False</td>\n",
              "    </tr>\n",
              "    <tr>\n",
              "      <th>...</th>\n",
              "      <td>...</td>\n",
              "      <td>...</td>\n",
              "      <td>...</td>\n",
              "      <td>...</td>\n",
              "      <td>...</td>\n",
              "      <td>...</td>\n",
              "      <td>...</td>\n",
              "      <td>...</td>\n",
              "      <td>...</td>\n",
              "    </tr>\n",
              "    <tr>\n",
              "      <th>4476</th>\n",
              "      <td>1</td>\n",
              "      <td>Dorchester Road and Huron Church Road</td>\n",
              "      <td>{'timeStamp': '2021-01-01T23:57:00', 'vehicleT...</td>\n",
              "      <td>2021-01-01T23:57:00</td>\n",
              "      <td>Light</td>\n",
              "      <td>N</td>\n",
              "      <td>S</td>\n",
              "      <td>2</td>\n",
              "      <td>False</td>\n",
              "    </tr>\n",
              "    <tr>\n",
              "      <th>4477</th>\n",
              "      <td>1</td>\n",
              "      <td>Dorchester Road and Huron Church Road</td>\n",
              "      <td>{'timeStamp': '2021-01-01T23:58:00', 'vehicleT...</td>\n",
              "      <td>2021-01-01T23:58:00</td>\n",
              "      <td>ArticulatedTruck</td>\n",
              "      <td>S</td>\n",
              "      <td>N</td>\n",
              "      <td>1</td>\n",
              "      <td>False</td>\n",
              "    </tr>\n",
              "    <tr>\n",
              "      <th>4478</th>\n",
              "      <td>1</td>\n",
              "      <td>Dorchester Road and Huron Church Road</td>\n",
              "      <td>{'timeStamp': '2021-01-01T23:58:00', 'vehicleT...</td>\n",
              "      <td>2021-01-01T23:58:00</td>\n",
              "      <td>Light</td>\n",
              "      <td>E</td>\n",
              "      <td>N</td>\n",
              "      <td>1</td>\n",
              "      <td>False</td>\n",
              "    </tr>\n",
              "    <tr>\n",
              "      <th>4479</th>\n",
              "      <td>1</td>\n",
              "      <td>Dorchester Road and Huron Church Road</td>\n",
              "      <td>{'timeStamp': '2021-01-01T23:58:00', 'vehicleT...</td>\n",
              "      <td>2021-01-01T23:58:00</td>\n",
              "      <td>Light</td>\n",
              "      <td>S</td>\n",
              "      <td>N</td>\n",
              "      <td>2</td>\n",
              "      <td>False</td>\n",
              "    </tr>\n",
              "    <tr>\n",
              "      <th>4480</th>\n",
              "      <td>1</td>\n",
              "      <td>Dorchester Road and Huron Church Road</td>\n",
              "      <td>{'timeStamp': '2021-01-01T23:59:00', 'vehicleT...</td>\n",
              "      <td>2021-01-01T23:59:00</td>\n",
              "      <td>Light</td>\n",
              "      <td>S</td>\n",
              "      <td>N</td>\n",
              "      <td>1</td>\n",
              "      <td>False</td>\n",
              "    </tr>\n",
              "  </tbody>\n",
              "</table>\n",
              "<p>12013 rows × 9 columns</p>\n",
              "</div>"
            ],
            "text/plain": [
              "      intersectionId  ... isDaylightSavingsTime\n",
              "0                  2  ...                 False\n",
              "1                  2  ...                 False\n",
              "2                  2  ...                 False\n",
              "3                  2  ...                 False\n",
              "4                  2  ...                 False\n",
              "...              ...  ...                   ...\n",
              "4476               1  ...                 False\n",
              "4477               1  ...                 False\n",
              "4478               1  ...                 False\n",
              "4479               1  ...                 False\n",
              "4480               1  ...                 False\n",
              "\n",
              "[12013 rows x 9 columns]"
            ]
          },
          "metadata": {},
          "execution_count": 10
        }
      ]
    },
    {
      "cell_type": "code",
      "metadata": {
        "colab": {
          "base_uri": "https://localhost:8080/"
        },
        "id": "qjzEakQwIj6B",
        "outputId": "479379cc-57ac-4b39-d6f5-f3bb4bd93ee6"
      },
      "source": [
        "data.info()\n",
        "data.to_csv('d.csv')"
      ],
      "execution_count": 11,
      "outputs": [
        {
          "output_type": "stream",
          "name": "stdout",
          "text": [
            "<class 'pandas.core.frame.DataFrame'>\n",
            "Int64Index: 12013 entries, 0 to 4480\n",
            "Data columns (total 9 columns):\n",
            " #   Column                   Non-Null Count  Dtype \n",
            "---  ------                   --------------  ----- \n",
            " 0   intersectionId           12013 non-null  int64 \n",
            " 1   intersectionDescription  12013 non-null  object\n",
            " 2   traffic                  12013 non-null  object\n",
            " 3   timeStamp                12013 non-null  object\n",
            " 4   vehicleType              12013 non-null  object\n",
            " 5   entrance                 12013 non-null  object\n",
            " 6   exit                     12013 non-null  object\n",
            " 7   qty                      12013 non-null  int64 \n",
            " 8   isDaylightSavingsTime    12013 non-null  bool  \n",
            "dtypes: bool(1), int64(2), object(6)\n",
            "memory usage: 856.4+ KB\n"
          ]
        }
      ]
    },
    {
      "cell_type": "code",
      "metadata": {
        "colab": {
          "base_uri": "https://localhost:8080/"
        },
        "id": "_Fqe-_nwJSlt",
        "outputId": "0fa97db0-cf70-46ea-90ac-85a34028a851"
      },
      "source": [
        "for col in data.select_dtypes('O').columns:\n",
        "  print('In {} unique values:\\n{}'.format(col,data[col].value_counts()))\n",
        "  print('\\n')"
      ],
      "execution_count": 12,
      "outputs": [
        {
          "output_type": "stream",
          "name": "stdout",
          "text": [
            "In intersectionDescription unique values:\n",
            "Totten Street and Huron Church Road      7532\n",
            "Dorchester Road and Huron Church Road    4481\n",
            "Name: intersectionDescription, dtype: int64\n",
            "\n",
            "\n",
            "In traffic unique values:\n",
            "{'timeStamp': '2020-01-01T13:30:00', 'vehicleType': 'ArticulatedTruck', 'entrance': 'N', 'exit': 'S', 'qty': 1, 'isDaylightSavingsTime': False}    1\n",
            "{'timeStamp': '2021-01-01T01:31:00', 'vehicleType': 'Light', 'entrance': 'N', 'exit': 'S', 'qty': 2, 'isDaylightSavingsTime': False}               1\n",
            "{'timeStamp': '2020-01-01T02:21:00', 'vehicleType': 'ArticulatedTruck', 'entrance': 'S', 'exit': 'N', 'qty': 1, 'isDaylightSavingsTime': False}    1\n",
            "{'timeStamp': '2020-01-01T15:27:00', 'vehicleType': 'Light', 'entrance': 'W', 'exit': 'E', 'qty': 1, 'isDaylightSavingsTime': False}               1\n",
            "{'timeStamp': '2021-01-01T15:25:00', 'vehicleType': 'ArticulatedTruck', 'entrance': 'N', 'exit': 'S', 'qty': 2, 'isDaylightSavingsTime': False}    1\n",
            "                                                                                                                                                  ..\n",
            "{'timeStamp': '2021-01-01T08:43:00', 'vehicleType': 'Light', 'entrance': 'S', 'exit': 'N', 'qty': 1, 'isDaylightSavingsTime': False}               1\n",
            "{'timeStamp': '2020-01-01T16:14:00', 'vehicleType': 'Light', 'entrance': 'N', 'exit': 'S', 'qty': 3, 'isDaylightSavingsTime': False}               1\n",
            "{'timeStamp': '2020-01-01T15:59:00', 'vehicleType': 'ArticulatedTruck', 'entrance': 'N', 'exit': 'S', 'qty': 2, 'isDaylightSavingsTime': False}    1\n",
            "{'timeStamp': '2021-01-01T18:26:00', 'vehicleType': 'Light', 'entrance': 'S', 'exit': 'N', 'qty': 5, 'isDaylightSavingsTime': False}               1\n",
            "{'timeStamp': '2021-01-01T22:12:00', 'vehicleType': 'Light', 'entrance': 'S', 'exit': 'N', 'qty': 1, 'isDaylightSavingsTime': False}               1\n",
            "Name: traffic, Length: 12013, dtype: int64\n",
            "\n",
            "\n",
            "In timeStamp unique values:\n",
            "2020-01-01T16:00:00    13\n",
            "2020-01-01T15:40:00    13\n",
            "2020-01-01T13:24:00    12\n",
            "2020-01-01T11:42:00    12\n",
            "2020-01-01T15:38:00    12\n",
            "                       ..\n",
            "2021-01-01T20:37:00     1\n",
            "2020-01-01T03:35:00     1\n",
            "2021-01-01T04:51:00     1\n",
            "2020-01-01T07:23:00     1\n",
            "2020-01-01T06:24:00     1\n",
            "Name: timeStamp, Length: 2827, dtype: int64\n",
            "\n",
            "\n",
            "In vehicleType unique values:\n",
            "Light               9691\n",
            "ArticulatedTruck    2132\n",
            "SingleUnitTruck      130\n",
            "Bus                   25\n",
            "WorkVan               21\n",
            "Bicycle               14\n",
            "Name: vehicleType, dtype: int64\n",
            "\n",
            "\n",
            "In entrance unique values:\n",
            "S    5034\n",
            "N    4108\n",
            "E    1634\n",
            "W    1237\n",
            "Name: entrance, dtype: int64\n",
            "\n",
            "\n",
            "In exit unique values:\n",
            "S    4815\n",
            "N    4340\n",
            "E    1583\n",
            "W    1275\n",
            "Name: exit, dtype: int64\n",
            "\n",
            "\n"
          ]
        }
      ]
    },
    {
      "cell_type": "code",
      "metadata": {
        "id": "bR9TZA7XKz-f"
      },
      "source": [
        "Typeoftruck = ['Light','Bus', 'Bicycle','WorkVan','ArticulatedTruck','SingleUnitTruck']\n",
        "Direction = ['N','S','E','W']"
      ],
      "execution_count": 13,
      "outputs": []
    },
    {
      "cell_type": "code",
      "metadata": {
        "id": "Wkd07VC-RvJj"
      },
      "source": [
        "data = data.drop(['intersectionId','intersectionDescription','traffic','isDaylightSavingsTime'],axis=1)"
      ],
      "execution_count": 14,
      "outputs": []
    },
    {
      "cell_type": "code",
      "metadata": {
        "id": "IARSRDvRQRvv"
      },
      "source": [
        "vehicle = data[data.vehicleType.isin(Typeoftruck)]"
      ],
      "execution_count": 15,
      "outputs": []
    },
    {
      "cell_type": "code",
      "metadata": {
        "id": "V-XiZzSsJSng"
      },
      "source": [
        "vehicle['timeStamp'] = pd.to_datetime(vehicle['timeStamp'])\n",
        "\n",
        "vehicle['day_of_week'] = vehicle['timeStamp'].dt.dayofweek\n",
        "vehicle['day'] = vehicle['timeStamp'].dt.day\n",
        "vehicle['day_of_year'] = vehicle['timeStamp'].dt.dayofyear\n",
        "vehicle['year'] = vehicle['timeStamp'].dt.year\n",
        "vehicle['month'] = vehicle['timeStamp'].dt.month\n",
        "vehicle['hours'] = vehicle['timeStamp'].dt.hour\n",
        "#vehicle['minutes'] = vehicle['timeStamp'].dt.minute\n",
        "vehicle.to_csv('v.csv')"
      ],
      "execution_count": 16,
      "outputs": []
    },
    {
      "cell_type": "code",
      "metadata": {
        "colab": {
          "base_uri": "https://localhost:8080/"
        },
        "id": "aOHgL6RHfqy9",
        "outputId": "08ee5084-a283-4758-c606-115df70ae6ae"
      },
      "source": [
        "vehicle.year.value_counts()"
      ],
      "execution_count": 17,
      "outputs": [
        {
          "output_type": "execute_result",
          "data": {
            "text/plain": [
              "2020    7532\n",
              "2021    4481\n",
              "Name: year, dtype: int64"
            ]
          },
          "metadata": {},
          "execution_count": 17
        }
      ]
    },
    {
      "cell_type": "code",
      "metadata": {
        "id": "RHCh19J4JSqp"
      },
      "source": [
        "direction = vehicle[vehicle.entrance.isin(Direction)]\n",
        "direction.to_csv('dir.csv')"
      ],
      "execution_count": 18,
      "outputs": []
    },
    {
      "cell_type": "code",
      "metadata": {
        "id": "CDwQIFpsJSsW"
      },
      "source": [
        "hour_count = direction.groupby(\n",
        "     ['day','month','year','day_of_year','day_of_week','hours']\n",
        " ).agg(\n",
        "     Vehicles = ('qty','sum'),\n",
        " ).reset_index()"
      ],
      "execution_count": 19,
      "outputs": []
    },
    {
      "cell_type": "code",
      "metadata": {
        "colab": {
          "base_uri": "https://localhost:8080/",
          "height": 1000
        },
        "id": "eHf4qretdn1_",
        "outputId": "b5feea9a-c229-41cc-9fcc-6e1288baa7ef"
      },
      "source": [
        "hour_count"
      ],
      "execution_count": 20,
      "outputs": [
        {
          "output_type": "execute_result",
          "data": {
            "text/html": [
              "<div>\n",
              "<style scoped>\n",
              "    .dataframe tbody tr th:only-of-type {\n",
              "        vertical-align: middle;\n",
              "    }\n",
              "\n",
              "    .dataframe tbody tr th {\n",
              "        vertical-align: top;\n",
              "    }\n",
              "\n",
              "    .dataframe thead th {\n",
              "        text-align: right;\n",
              "    }\n",
              "</style>\n",
              "<table border=\"1\" class=\"dataframe\">\n",
              "  <thead>\n",
              "    <tr style=\"text-align: right;\">\n",
              "      <th></th>\n",
              "      <th>day</th>\n",
              "      <th>month</th>\n",
              "      <th>year</th>\n",
              "      <th>day_of_year</th>\n",
              "      <th>day_of_week</th>\n",
              "      <th>hours</th>\n",
              "      <th>Vehicles</th>\n",
              "    </tr>\n",
              "  </thead>\n",
              "  <tbody>\n",
              "    <tr>\n",
              "      <th>0</th>\n",
              "      <td>1</td>\n",
              "      <td>1</td>\n",
              "      <td>2020</td>\n",
              "      <td>1</td>\n",
              "      <td>2</td>\n",
              "      <td>0</td>\n",
              "      <td>700</td>\n",
              "    </tr>\n",
              "    <tr>\n",
              "      <th>1</th>\n",
              "      <td>1</td>\n",
              "      <td>1</td>\n",
              "      <td>2020</td>\n",
              "      <td>1</td>\n",
              "      <td>2</td>\n",
              "      <td>1</td>\n",
              "      <td>781</td>\n",
              "    </tr>\n",
              "    <tr>\n",
              "      <th>2</th>\n",
              "      <td>1</td>\n",
              "      <td>1</td>\n",
              "      <td>2020</td>\n",
              "      <td>1</td>\n",
              "      <td>2</td>\n",
              "      <td>2</td>\n",
              "      <td>587</td>\n",
              "    </tr>\n",
              "    <tr>\n",
              "      <th>3</th>\n",
              "      <td>1</td>\n",
              "      <td>1</td>\n",
              "      <td>2020</td>\n",
              "      <td>1</td>\n",
              "      <td>2</td>\n",
              "      <td>3</td>\n",
              "      <td>395</td>\n",
              "    </tr>\n",
              "    <tr>\n",
              "      <th>4</th>\n",
              "      <td>1</td>\n",
              "      <td>1</td>\n",
              "      <td>2020</td>\n",
              "      <td>1</td>\n",
              "      <td>2</td>\n",
              "      <td>4</td>\n",
              "      <td>277</td>\n",
              "    </tr>\n",
              "    <tr>\n",
              "      <th>5</th>\n",
              "      <td>1</td>\n",
              "      <td>1</td>\n",
              "      <td>2020</td>\n",
              "      <td>1</td>\n",
              "      <td>2</td>\n",
              "      <td>5</td>\n",
              "      <td>218</td>\n",
              "    </tr>\n",
              "    <tr>\n",
              "      <th>6</th>\n",
              "      <td>1</td>\n",
              "      <td>1</td>\n",
              "      <td>2020</td>\n",
              "      <td>1</td>\n",
              "      <td>2</td>\n",
              "      <td>6</td>\n",
              "      <td>308</td>\n",
              "    </tr>\n",
              "    <tr>\n",
              "      <th>7</th>\n",
              "      <td>1</td>\n",
              "      <td>1</td>\n",
              "      <td>2020</td>\n",
              "      <td>1</td>\n",
              "      <td>2</td>\n",
              "      <td>7</td>\n",
              "      <td>385</td>\n",
              "    </tr>\n",
              "    <tr>\n",
              "      <th>8</th>\n",
              "      <td>1</td>\n",
              "      <td>1</td>\n",
              "      <td>2020</td>\n",
              "      <td>1</td>\n",
              "      <td>2</td>\n",
              "      <td>8</td>\n",
              "      <td>459</td>\n",
              "    </tr>\n",
              "    <tr>\n",
              "      <th>9</th>\n",
              "      <td>1</td>\n",
              "      <td>1</td>\n",
              "      <td>2020</td>\n",
              "      <td>1</td>\n",
              "      <td>2</td>\n",
              "      <td>9</td>\n",
              "      <td>652</td>\n",
              "    </tr>\n",
              "    <tr>\n",
              "      <th>10</th>\n",
              "      <td>1</td>\n",
              "      <td>1</td>\n",
              "      <td>2020</td>\n",
              "      <td>1</td>\n",
              "      <td>2</td>\n",
              "      <td>10</td>\n",
              "      <td>960</td>\n",
              "    </tr>\n",
              "    <tr>\n",
              "      <th>11</th>\n",
              "      <td>1</td>\n",
              "      <td>1</td>\n",
              "      <td>2020</td>\n",
              "      <td>1</td>\n",
              "      <td>2</td>\n",
              "      <td>11</td>\n",
              "      <td>1274</td>\n",
              "    </tr>\n",
              "    <tr>\n",
              "      <th>12</th>\n",
              "      <td>1</td>\n",
              "      <td>1</td>\n",
              "      <td>2020</td>\n",
              "      <td>1</td>\n",
              "      <td>2</td>\n",
              "      <td>12</td>\n",
              "      <td>1376</td>\n",
              "    </tr>\n",
              "    <tr>\n",
              "      <th>13</th>\n",
              "      <td>1</td>\n",
              "      <td>1</td>\n",
              "      <td>2020</td>\n",
              "      <td>1</td>\n",
              "      <td>2</td>\n",
              "      <td>13</td>\n",
              "      <td>1482</td>\n",
              "    </tr>\n",
              "    <tr>\n",
              "      <th>14</th>\n",
              "      <td>1</td>\n",
              "      <td>1</td>\n",
              "      <td>2020</td>\n",
              "      <td>1</td>\n",
              "      <td>2</td>\n",
              "      <td>14</td>\n",
              "      <td>1570</td>\n",
              "    </tr>\n",
              "    <tr>\n",
              "      <th>15</th>\n",
              "      <td>1</td>\n",
              "      <td>1</td>\n",
              "      <td>2020</td>\n",
              "      <td>1</td>\n",
              "      <td>2</td>\n",
              "      <td>15</td>\n",
              "      <td>1550</td>\n",
              "    </tr>\n",
              "    <tr>\n",
              "      <th>16</th>\n",
              "      <td>1</td>\n",
              "      <td>1</td>\n",
              "      <td>2020</td>\n",
              "      <td>1</td>\n",
              "      <td>2</td>\n",
              "      <td>16</td>\n",
              "      <td>1604</td>\n",
              "    </tr>\n",
              "    <tr>\n",
              "      <th>17</th>\n",
              "      <td>1</td>\n",
              "      <td>1</td>\n",
              "      <td>2020</td>\n",
              "      <td>1</td>\n",
              "      <td>2</td>\n",
              "      <td>17</td>\n",
              "      <td>1564</td>\n",
              "    </tr>\n",
              "    <tr>\n",
              "      <th>18</th>\n",
              "      <td>1</td>\n",
              "      <td>1</td>\n",
              "      <td>2020</td>\n",
              "      <td>1</td>\n",
              "      <td>2</td>\n",
              "      <td>18</td>\n",
              "      <td>1327</td>\n",
              "    </tr>\n",
              "    <tr>\n",
              "      <th>19</th>\n",
              "      <td>1</td>\n",
              "      <td>1</td>\n",
              "      <td>2020</td>\n",
              "      <td>1</td>\n",
              "      <td>2</td>\n",
              "      <td>19</td>\n",
              "      <td>1204</td>\n",
              "    </tr>\n",
              "    <tr>\n",
              "      <th>20</th>\n",
              "      <td>1</td>\n",
              "      <td>1</td>\n",
              "      <td>2020</td>\n",
              "      <td>1</td>\n",
              "      <td>2</td>\n",
              "      <td>20</td>\n",
              "      <td>1070</td>\n",
              "    </tr>\n",
              "    <tr>\n",
              "      <th>21</th>\n",
              "      <td>1</td>\n",
              "      <td>1</td>\n",
              "      <td>2020</td>\n",
              "      <td>1</td>\n",
              "      <td>2</td>\n",
              "      <td>21</td>\n",
              "      <td>895</td>\n",
              "    </tr>\n",
              "    <tr>\n",
              "      <th>22</th>\n",
              "      <td>1</td>\n",
              "      <td>1</td>\n",
              "      <td>2020</td>\n",
              "      <td>1</td>\n",
              "      <td>2</td>\n",
              "      <td>22</td>\n",
              "      <td>743</td>\n",
              "    </tr>\n",
              "    <tr>\n",
              "      <th>23</th>\n",
              "      <td>1</td>\n",
              "      <td>1</td>\n",
              "      <td>2020</td>\n",
              "      <td>1</td>\n",
              "      <td>2</td>\n",
              "      <td>23</td>\n",
              "      <td>524</td>\n",
              "    </tr>\n",
              "    <tr>\n",
              "      <th>24</th>\n",
              "      <td>1</td>\n",
              "      <td>1</td>\n",
              "      <td>2021</td>\n",
              "      <td>1</td>\n",
              "      <td>4</td>\n",
              "      <td>0</td>\n",
              "      <td>289</td>\n",
              "    </tr>\n",
              "    <tr>\n",
              "      <th>25</th>\n",
              "      <td>1</td>\n",
              "      <td>1</td>\n",
              "      <td>2021</td>\n",
              "      <td>1</td>\n",
              "      <td>4</td>\n",
              "      <td>1</td>\n",
              "      <td>228</td>\n",
              "    </tr>\n",
              "    <tr>\n",
              "      <th>26</th>\n",
              "      <td>1</td>\n",
              "      <td>1</td>\n",
              "      <td>2021</td>\n",
              "      <td>1</td>\n",
              "      <td>4</td>\n",
              "      <td>2</td>\n",
              "      <td>166</td>\n",
              "    </tr>\n",
              "    <tr>\n",
              "      <th>27</th>\n",
              "      <td>1</td>\n",
              "      <td>1</td>\n",
              "      <td>2021</td>\n",
              "      <td>1</td>\n",
              "      <td>4</td>\n",
              "      <td>3</td>\n",
              "      <td>130</td>\n",
              "    </tr>\n",
              "    <tr>\n",
              "      <th>28</th>\n",
              "      <td>1</td>\n",
              "      <td>1</td>\n",
              "      <td>2021</td>\n",
              "      <td>1</td>\n",
              "      <td>4</td>\n",
              "      <td>4</td>\n",
              "      <td>79</td>\n",
              "    </tr>\n",
              "    <tr>\n",
              "      <th>29</th>\n",
              "      <td>1</td>\n",
              "      <td>1</td>\n",
              "      <td>2021</td>\n",
              "      <td>1</td>\n",
              "      <td>4</td>\n",
              "      <td>5</td>\n",
              "      <td>104</td>\n",
              "    </tr>\n",
              "    <tr>\n",
              "      <th>30</th>\n",
              "      <td>1</td>\n",
              "      <td>1</td>\n",
              "      <td>2021</td>\n",
              "      <td>1</td>\n",
              "      <td>4</td>\n",
              "      <td>6</td>\n",
              "      <td>196</td>\n",
              "    </tr>\n",
              "    <tr>\n",
              "      <th>31</th>\n",
              "      <td>1</td>\n",
              "      <td>1</td>\n",
              "      <td>2021</td>\n",
              "      <td>1</td>\n",
              "      <td>4</td>\n",
              "      <td>7</td>\n",
              "      <td>217</td>\n",
              "    </tr>\n",
              "    <tr>\n",
              "      <th>32</th>\n",
              "      <td>1</td>\n",
              "      <td>1</td>\n",
              "      <td>2021</td>\n",
              "      <td>1</td>\n",
              "      <td>4</td>\n",
              "      <td>8</td>\n",
              "      <td>252</td>\n",
              "    </tr>\n",
              "    <tr>\n",
              "      <th>33</th>\n",
              "      <td>1</td>\n",
              "      <td>1</td>\n",
              "      <td>2021</td>\n",
              "      <td>1</td>\n",
              "      <td>4</td>\n",
              "      <td>9</td>\n",
              "      <td>287</td>\n",
              "    </tr>\n",
              "    <tr>\n",
              "      <th>34</th>\n",
              "      <td>1</td>\n",
              "      <td>1</td>\n",
              "      <td>2021</td>\n",
              "      <td>1</td>\n",
              "      <td>4</td>\n",
              "      <td>10</td>\n",
              "      <td>415</td>\n",
              "    </tr>\n",
              "    <tr>\n",
              "      <th>35</th>\n",
              "      <td>1</td>\n",
              "      <td>1</td>\n",
              "      <td>2021</td>\n",
              "      <td>1</td>\n",
              "      <td>4</td>\n",
              "      <td>11</td>\n",
              "      <td>518</td>\n",
              "    </tr>\n",
              "    <tr>\n",
              "      <th>36</th>\n",
              "      <td>1</td>\n",
              "      <td>1</td>\n",
              "      <td>2021</td>\n",
              "      <td>1</td>\n",
              "      <td>4</td>\n",
              "      <td>12</td>\n",
              "      <td>596</td>\n",
              "    </tr>\n",
              "    <tr>\n",
              "      <th>37</th>\n",
              "      <td>1</td>\n",
              "      <td>1</td>\n",
              "      <td>2021</td>\n",
              "      <td>1</td>\n",
              "      <td>4</td>\n",
              "      <td>13</td>\n",
              "      <td>671</td>\n",
              "    </tr>\n",
              "    <tr>\n",
              "      <th>38</th>\n",
              "      <td>1</td>\n",
              "      <td>1</td>\n",
              "      <td>2021</td>\n",
              "      <td>1</td>\n",
              "      <td>4</td>\n",
              "      <td>14</td>\n",
              "      <td>628</td>\n",
              "    </tr>\n",
              "    <tr>\n",
              "      <th>39</th>\n",
              "      <td>1</td>\n",
              "      <td>1</td>\n",
              "      <td>2021</td>\n",
              "      <td>1</td>\n",
              "      <td>4</td>\n",
              "      <td>15</td>\n",
              "      <td>674</td>\n",
              "    </tr>\n",
              "    <tr>\n",
              "      <th>40</th>\n",
              "      <td>1</td>\n",
              "      <td>1</td>\n",
              "      <td>2021</td>\n",
              "      <td>1</td>\n",
              "      <td>4</td>\n",
              "      <td>16</td>\n",
              "      <td>680</td>\n",
              "    </tr>\n",
              "    <tr>\n",
              "      <th>41</th>\n",
              "      <td>1</td>\n",
              "      <td>1</td>\n",
              "      <td>2021</td>\n",
              "      <td>1</td>\n",
              "      <td>4</td>\n",
              "      <td>17</td>\n",
              "      <td>604</td>\n",
              "    </tr>\n",
              "    <tr>\n",
              "      <th>42</th>\n",
              "      <td>1</td>\n",
              "      <td>1</td>\n",
              "      <td>2021</td>\n",
              "      <td>1</td>\n",
              "      <td>4</td>\n",
              "      <td>18</td>\n",
              "      <td>541</td>\n",
              "    </tr>\n",
              "    <tr>\n",
              "      <th>43</th>\n",
              "      <td>1</td>\n",
              "      <td>1</td>\n",
              "      <td>2021</td>\n",
              "      <td>1</td>\n",
              "      <td>4</td>\n",
              "      <td>19</td>\n",
              "      <td>511</td>\n",
              "    </tr>\n",
              "    <tr>\n",
              "      <th>44</th>\n",
              "      <td>1</td>\n",
              "      <td>1</td>\n",
              "      <td>2021</td>\n",
              "      <td>1</td>\n",
              "      <td>4</td>\n",
              "      <td>20</td>\n",
              "      <td>412</td>\n",
              "    </tr>\n",
              "    <tr>\n",
              "      <th>45</th>\n",
              "      <td>1</td>\n",
              "      <td>1</td>\n",
              "      <td>2021</td>\n",
              "      <td>1</td>\n",
              "      <td>4</td>\n",
              "      <td>21</td>\n",
              "      <td>360</td>\n",
              "    </tr>\n",
              "    <tr>\n",
              "      <th>46</th>\n",
              "      <td>1</td>\n",
              "      <td>1</td>\n",
              "      <td>2021</td>\n",
              "      <td>1</td>\n",
              "      <td>4</td>\n",
              "      <td>22</td>\n",
              "      <td>285</td>\n",
              "    </tr>\n",
              "    <tr>\n",
              "      <th>47</th>\n",
              "      <td>1</td>\n",
              "      <td>1</td>\n",
              "      <td>2021</td>\n",
              "      <td>1</td>\n",
              "      <td>4</td>\n",
              "      <td>23</td>\n",
              "      <td>261</td>\n",
              "    </tr>\n",
              "  </tbody>\n",
              "</table>\n",
              "</div>"
            ],
            "text/plain": [
              "    day  month  year  day_of_year  day_of_week  hours  Vehicles\n",
              "0     1      1  2020            1            2      0       700\n",
              "1     1      1  2020            1            2      1       781\n",
              "2     1      1  2020            1            2      2       587\n",
              "3     1      1  2020            1            2      3       395\n",
              "4     1      1  2020            1            2      4       277\n",
              "5     1      1  2020            1            2      5       218\n",
              "6     1      1  2020            1            2      6       308\n",
              "7     1      1  2020            1            2      7       385\n",
              "8     1      1  2020            1            2      8       459\n",
              "9     1      1  2020            1            2      9       652\n",
              "10    1      1  2020            1            2     10       960\n",
              "11    1      1  2020            1            2     11      1274\n",
              "12    1      1  2020            1            2     12      1376\n",
              "13    1      1  2020            1            2     13      1482\n",
              "14    1      1  2020            1            2     14      1570\n",
              "15    1      1  2020            1            2     15      1550\n",
              "16    1      1  2020            1            2     16      1604\n",
              "17    1      1  2020            1            2     17      1564\n",
              "18    1      1  2020            1            2     18      1327\n",
              "19    1      1  2020            1            2     19      1204\n",
              "20    1      1  2020            1            2     20      1070\n",
              "21    1      1  2020            1            2     21       895\n",
              "22    1      1  2020            1            2     22       743\n",
              "23    1      1  2020            1            2     23       524\n",
              "24    1      1  2021            1            4      0       289\n",
              "25    1      1  2021            1            4      1       228\n",
              "26    1      1  2021            1            4      2       166\n",
              "27    1      1  2021            1            4      3       130\n",
              "28    1      1  2021            1            4      4        79\n",
              "29    1      1  2021            1            4      5       104\n",
              "30    1      1  2021            1            4      6       196\n",
              "31    1      1  2021            1            4      7       217\n",
              "32    1      1  2021            1            4      8       252\n",
              "33    1      1  2021            1            4      9       287\n",
              "34    1      1  2021            1            4     10       415\n",
              "35    1      1  2021            1            4     11       518\n",
              "36    1      1  2021            1            4     12       596\n",
              "37    1      1  2021            1            4     13       671\n",
              "38    1      1  2021            1            4     14       628\n",
              "39    1      1  2021            1            4     15       674\n",
              "40    1      1  2021            1            4     16       680\n",
              "41    1      1  2021            1            4     17       604\n",
              "42    1      1  2021            1            4     18       541\n",
              "43    1      1  2021            1            4     19       511\n",
              "44    1      1  2021            1            4     20       412\n",
              "45    1      1  2021            1            4     21       360\n",
              "46    1      1  2021            1            4     22       285\n",
              "47    1      1  2021            1            4     23       261"
            ]
          },
          "metadata": {},
          "execution_count": 20
        }
      ]
    },
    {
      "cell_type": "code",
      "metadata": {
        "id": "2wvt6Z6AoBVr"
      },
      "source": [
        "model_data = hour_count[:25]\n",
        "unseen_data = hour_count[25:]"
      ],
      "execution_count": 21,
      "outputs": []
    },
    {
      "cell_type": "code",
      "metadata": {
        "id": "T3yvV2D2X8kj"
      },
      "source": [
        "#importing packages and creating models\n",
        "\n",
        "import xgboost as xgb\n",
        "from sklearn.datasets import load_boston\n",
        "from sklearn.model_selection import train_test_split\n",
        "from sklearn import metrics\n",
        "from sklearn.model_selection import cross_val_score, KFold\n",
        "from sklearn.metrics import mean_squared_error\n",
        "import matplotlib.pyplot as plt"
      ],
      "execution_count": 22,
      "outputs": []
    },
    {
      "cell_type": "code",
      "metadata": {
        "id": "2B6uPY15X8mT"
      },
      "source": [
        "# Storing the independent variables in X:\n",
        "X=hour_count.drop(['Vehicles'], axis=1)\n",
        "\n",
        "# Storing the dependent variable in y:\n",
        "y=hour_count.Vehicles\n",
        "\n",
        "# Importing train_test_split from sklearn library:\n",
        "from sklearn.model_selection import train_test_split\n",
        "\n",
        "# Splitting the data into training and testing sets:\n",
        "xtrain, xtest, ytrain, ytest = train_test_split(X, y, test_size=0.2,shuffle=True)"
      ],
      "execution_count": 23,
      "outputs": []
    },
    {
      "cell_type": "code",
      "metadata": {
        "colab": {
          "base_uri": "https://localhost:8080/"
        },
        "id": "0WhqJE9tX8pg",
        "outputId": "c3c19326-3ff7-489b-8c5d-d2d255ad3cca"
      },
      "source": [
        "#Training Models\n",
        "import xgboost as xgb\n",
        "from xgboost import XGBRegressor\n",
        "from sklearn import metrics\n",
        "xgbr = xgb.XGBRegressor(verbosity=0) \n",
        "xgbr.fit(xtrain, ytrain)"
      ],
      "execution_count": 24,
      "outputs": [
        {
          "output_type": "execute_result",
          "data": {
            "text/plain": [
              "XGBRegressor(base_score=0.5, booster='gbtree', colsample_bylevel=1,\n",
              "             colsample_bynode=1, colsample_bytree=1, gamma=0,\n",
              "             importance_type='gain', learning_rate=0.1, max_delta_step=0,\n",
              "             max_depth=3, min_child_weight=1, missing=None, n_estimators=100,\n",
              "             n_jobs=1, nthread=None, objective='reg:linear', random_state=0,\n",
              "             reg_alpha=0, reg_lambda=1, scale_pos_weight=1, seed=None,\n",
              "             silent=None, subsample=1, verbosity=0)"
            ]
          },
          "metadata": {},
          "execution_count": 24
        }
      ]
    },
    {
      "cell_type": "code",
      "metadata": {
        "colab": {
          "base_uri": "https://localhost:8080/"
        },
        "id": "gkmAGwn4X8rM",
        "outputId": "ec277b0a-8146-4c94-de9e-e9ef3e886ab0"
      },
      "source": [
        "#calculating train accuracy\n",
        "score = xgbr.score(xtrain, ytrain)  \n",
        "print(\"Training score: \", score)"
      ],
      "execution_count": 25,
      "outputs": [
        {
          "output_type": "stream",
          "name": "stdout",
          "text": [
            "Training score:  0.9991489548048391\n"
          ]
        }
      ]
    },
    {
      "cell_type": "code",
      "metadata": {
        "colab": {
          "base_uri": "https://localhost:8080/"
        },
        "id": "mlefIHS7X8vP",
        "outputId": "cb374010-a125-459b-891a-dcff17b4474c"
      },
      "source": [
        "scores = xgbr.score(xtest, ytest)\n",
        "print(\"Testing score: \", scores)"
      ],
      "execution_count": 26,
      "outputs": [
        {
          "output_type": "stream",
          "name": "stdout",
          "text": [
            "Testing score:  0.9415638433328967\n"
          ]
        }
      ]
    },
    {
      "cell_type": "code",
      "metadata": {
        "id": "U01tq4MeX82W"
      },
      "source": [
        "ypred = xgbr.predict(xtest)"
      ],
      "execution_count": 27,
      "outputs": []
    },
    {
      "cell_type": "code",
      "metadata": {
        "colab": {
          "base_uri": "https://localhost:8080/",
          "height": 418
        },
        "id": "VAEeCLzvYd1T",
        "outputId": "9a383828-82bc-4946-9418-d968fd9f19fd"
      },
      "source": [
        "plt.subplots(figsize=(21,6))\n",
        "x_ax = range(len(ytest))\n",
        "plt.xlabel('Hour Count',size=20)\n",
        "plt.ylabel('Vehicle Count',size=20)\n",
        "plt.plot(x_ax, ytest, label=\"original\")\n",
        "plt.plot(x_ax, ypred, label=\"predicted\")\n",
        "plt.title(\"Windsor Detrit Border test and predicted traffic data\",size=20)\n",
        "plt.legend()\n",
        "plt.show()"
      ],
      "execution_count": 28,
      "outputs": [
        {
          "output_type": "display_data",
          "data": {
            "image/png": "[encoded data removed]",
            "text/plain": [
              "<Figure size 1512x432 with 1 Axes>"
            ]
          },
          "metadata": {
            "needs_background": "light"
          }
        }
      ]
    },
    {
      "cell_type": "code",
      "metadata": {
        "colab": {
          "base_uri": "https://localhost:8080/"
        },
        "id": "jy5FMSMcYg9J",
        "outputId": "be1f6bf8-6c7f-423c-ad6c-194a3b4467a1"
      },
      "source": [
        "from sklearn.model_selection import cross_val_score\n",
        "scores_xg=cross_val_score(xgbr,X, y, cv=None)\n",
        "print(\"Score :\"+str(scores_xg))\n",
        "print(\"Mean accuracy of the model: \"+str(scores_xg.mean()))"
      ],
      "execution_count": 29,
      "outputs": [
        {
          "output_type": "stream",
          "name": "stdout",
          "text": [
            "Score :[-6.98392968 -6.09695047  0.27523244  0.90058197 -0.58882243]\n",
            "Mean accuracy of the model: -2.4987776343502697\n"
          ]
        }
      ]
    },
    {
      "cell_type": "code",
      "metadata": {
        "id": "wyqDuZtzYhAT"
      },
      "source": [
        "# Storing the independent variables in X:\n",
        "X_unseen=hour_count.drop(['Vehicles'], axis=1)\n",
        "\n",
        "# Storing the dependent variable in y:\n",
        "y_unseen=hour_count.Vehicles"
      ],
      "execution_count": 30,
      "outputs": []
    },
    {
      "cell_type": "code",
      "metadata": {
        "colab": {
          "base_uri": "https://localhost:8080/"
        },
        "id": "Vvdklqm9YhB4",
        "outputId": "2d5c6006-908d-444b-ce8c-77860d69e8ee"
      },
      "source": [
        "score_unseen = xgbr.score(X_unseen, y_unseen)\n",
        "print('Accuracy of unseen data: ',score_unseen)"
      ],
      "execution_count": 31,
      "outputs": [
        {
          "output_type": "stream",
          "name": "stdout",
          "text": [
            "Accuracy of unseen data:  0.9827187882778213\n"
          ]
        }
      ]
    },
    {
      "cell_type": "code",
      "metadata": {
        "id": "rpI4TbdWYhE0"
      },
      "source": [
        "ypred_unseen = xgbr.predict(X_unseen)"
      ],
      "execution_count": 32,
      "outputs": []
    },
    {
      "cell_type": "code",
      "metadata": {
        "colab": {
          "base_uri": "https://localhost:8080/",
          "height": 510
        },
        "id": "bHm93M97YhGn",
        "outputId": "b0e09473-00e6-4c0a-b205-d66714ff0019"
      },
      "source": [
        "plt.subplots(figsize=(25,8))\n",
        "x_ax_unseen = range(len(y_unseen))\n",
        "plt.xlabel('Hour Count',size=20)\n",
        "plt.ylabel('Vehicle Count',size=20)\n",
        "plt.plot(x_ax_unseen, y_unseen, label=\"original\")\n",
        "plt.plot(x_ax_unseen, ypred_unseen, label=\"predicted\")\n",
        "plt.title(\"Windsor Border Traffic Actual and Predicted data\",size=20)\n",
        "plt.legend()\n",
        "plt.show()"
      ],
      "execution_count": 33,
      "outputs": [
        {
          "output_type": "display_data",
          "data": {
            "image/png": "[encoded data removed]",
            "text/plain": [
              "<Figure size 1800x576 with 1 Axes>"
            ]
          },
          "metadata": {
            "needs_background": "light"
          }
        }
      ]
    }
  ]
}